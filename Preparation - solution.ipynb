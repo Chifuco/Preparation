{
 "cells": [
  {
   "cell_type": "markdown",
   "id": "16b370d4",
   "metadata": {},
   "source": [
    "The goal of this jupyter notebook is to prepare you for practical exercise. During the exercice we will use modules (``cryptography.hazmat, os, random, secrets``) and functions below so they need to be installed (it should be sufficient to install only  ``cryptography.hazmat``). Before the exercise execute all the cell to see whether everything work!!! We expect that you know basics of python - if not use some online tutorial to learn basisc. You can find some tutorials [here](https://wiki.python.org/moin/BeginnersGuide/Programmers). Will use loops, if-else, operators(logical - ``and, or``, aritmetic - ``%, **, +=, //, /``, bitwise - ``<<, >>, &, |, ^``), classes (calling own methods, method for initialization ``__init__``), lists (slices), dictionaries. Also we will use specific functions ``SHA256, AES`` from ``hazmat`` package, ``pow`` from ``math`` and ``open`` to read from a file. Python 3.6 or higher should be installed since we will use ``pow`` with negative exponents. "
   ]
  },
  {
   "cell_type": "markdown",
   "id": "8cdf9517",
   "metadata": {},
   "source": [
    "**Task 0:** Execute (Run button or Ctrl + Enter) the following cell."
   ]
  },
  {
   "cell_type": "code",
   "execution_count": 185,
   "id": "38610281",
   "metadata": {},
   "outputs": [],
   "source": [
    "from cryptography.hazmat.primitives import hashes\n",
    "from cryptography.hazmat.primitives.ciphers import Cipher, algorithms, modes\n",
    "import os\n",
    "import random \n",
    "import secrets"
   ]
  },
  {
   "cell_type": "markdown",
   "id": "410ce9e1",
   "metadata": {},
   "source": [
    "## Documentation "
   ]
  },
  {
   "cell_type": "markdown",
   "id": "74cec4fc",
   "metadata": {},
   "source": [
    "**Task 1:** If you are online you can easily find the documentation of the given method, function, etc. Google the documentation of ``random`` module - you should be able to find this [random module documentation](https://docs.python.org/3/library/random.html). Find method that will help you to generate list of 10 random values from range [0, 10]. It can be done using different functions, just choose one. "
   ]
  },
  {
   "cell_type": "markdown",
   "id": "ad79beba",
   "metadata": {},
   "source": [
    "**Task 2:** If you are offline (in case this happend during the exercise) you can use ``help`` which should be applied to given module, function, object etc. Just uncomment (Ctrl + /) and execute (Run button or Ctrl + Enter) following cell and you see the documentation string (docstring) for ``random`` given module. "
   ]
  },
  {
   "cell_type": "code",
   "execution_count": 2,
   "id": "24b6e106",
   "metadata": {},
   "outputs": [
    {
     "ename": "NameError",
     "evalue": "name 'random' is not defined",
     "output_type": "error",
     "traceback": [
      "\u001b[0;31m---------------------------------------------------------------------------\u001b[0m",
      "\u001b[0;31mNameError\u001b[0m                                 Traceback (most recent call last)",
      "\u001b[0;32m/tmp/ipykernel_1590/756380179.py\u001b[0m in \u001b[0;36m<module>\u001b[0;34m\u001b[0m\n\u001b[0;32m----> 1\u001b[0;31m \u001b[0mhelp\u001b[0m\u001b[0;34m(\u001b[0m\u001b[0mrandom\u001b[0m\u001b[0;34m)\u001b[0m\u001b[0;34m\u001b[0m\u001b[0;34m\u001b[0m\u001b[0m\n\u001b[0m",
      "\u001b[0;31mNameError\u001b[0m: name 'random' is not defined"
     ]
    }
   ],
   "source": [
    "help(random)"
   ]
  },
  {
   "cell_type": "markdown",
   "id": "52137904",
   "metadata": {},
   "source": [
    "**Task 3:** Insert a cell below cell (use + button) below and use ``help`` to print out docstring of ``random.randint`` method. Find the documentation of ``random.randint`` on the internet and compare the both results."
   ]
  },
  {
   "cell_type": "markdown",
   "id": "402e4ed1",
   "metadata": {},
   "source": [
    "**Task 4:** Use selected function from **Task 1** and generate 10 random values from range [0,10] that should be stored in   ``rand_list`` variable. Use list slicing and print first 2 values and last 3 values. Print generated ``rand_list`` into the file with name rand_list.txt. "
   ]
  },
  {
   "cell_type": "code",
   "execution_count": 187,
   "id": "56a9d5aa",
   "metadata": {},
   "outputs": [
    {
     "name": "stdout",
     "output_type": "stream",
     "text": [
      "[3, 7, 8, 7, 5, 5, 4, 4, 3, 4]\n",
      "[3, 7]\n",
      "[4, 3, 4]\n"
     ]
    }
   ],
   "source": [
    "rand_list = random.choices(population = range(10), k=10)# here implement your generation of 10 values \n",
    "print(rand_list)\n",
    "print(rand_list[:2])\n",
    "print(rand_list[-3:])"
   ]
  },
  {
   "cell_type": "markdown",
   "id": "6b7f480c",
   "metadata": {},
   "source": [
    "## Operators"
   ]
  },
  {
   "cell_type": "markdown",
   "id": "3e1573aa",
   "metadata": {},
   "source": [
    "**Task 5:** Below two random integers ``a,b`` from [0, 65365] interval are generated. Replace ``+`` by modulo operator and ``999`` by appropriate number so integer in ``byte_a`` will represet random byte. Replace ``-`` by bitwise and operator and ``111`` by appropriate number so ``byte_b`` will represet random byte. Do not use conversions!"
   ]
  },
  {
   "cell_type": "code",
   "execution_count": 188,
   "id": "ef929797",
   "metadata": {},
   "outputs": [],
   "source": [
    "a = random.randint(0, 65365)\n",
    "b = random.randint(0, 65365)\n",
    "byte_a = a & 255\n",
    "byte_b = b % 256 \n",
    "# byte_a = a + 999\n",
    "# byte_b = b - 111 \n"
   ]
  },
  {
   "cell_type": "markdown",
   "id": "cc2a696a",
   "metadata": {},
   "source": [
    "**Task 6:** Use for loop and find inverse of 87 modulo 97 i.e. find $x$ such that $x*87 \t\\equiv 1 \\bmod 97.$ Then compute it using ``pow``."
   ]
  },
  {
   "cell_type": "code",
   "execution_count": 189,
   "id": "6f041943",
   "metadata": {},
   "outputs": [
    {
     "data": {
      "text/plain": [
       "True"
      ]
     },
     "execution_count": 189,
     "metadata": {},
     "output_type": "execute_result"
    }
   ],
   "source": [
    "for x in range(97):\n",
    "    if ((x*87) % 97) == 1:\n",
    "        break\n",
    "        \n",
    "pow(87, -1, 97) == x"
   ]
  },
  {
   "cell_type": "markdown",
   "id": "47dbc4c1",
   "metadata": {},
   "source": [
    "**Task 7:** Implement the function ``rotate``that will take array of bytes and rotate it by ``shift`` bits to the right. Implement also helper function ``bits`` that returns list of bits in ``byte_array`` and use it to verify that ``rotate`` works correctly."
   ]
  },
  {
   "cell_type": "code",
   "execution_count": 190,
   "id": "3975d68a",
   "metadata": {},
   "outputs": [
    {
     "name": "stdout",
     "output_type": "stream",
     "text": [
      "True\n",
      "True\n"
     ]
    }
   ],
   "source": [
    "def bits(byte_array):\n",
    "    res = []\n",
    "    for b in byte_array:\n",
    "        for j in range(8):\n",
    "            res.append((b >> j) & 1)\n",
    "    return res\n",
    "\n",
    "def rotate_right(byte_array, shift):\n",
    "    bytesize = len(byte_array)\n",
    "    bitsize = bytesize*8\n",
    "    shift = shift % (bitsize)\n",
    "    \n",
    "    byte_shift = shift// 8 \n",
    "    bit_shift = 8 - (shift % 8)\n",
    "    \n",
    "    tmp_array = byte_array[-byte_shift:] + byte_array[:-byte_shift]\n",
    "    res = []\n",
    "    for i in range(-1, bytesize-1):\n",
    "        value = tmp_array[(i) % bytesize] + (tmp_array[i+1] << 8)\n",
    "        new_byte = (value >> bit_shift) % 256\n",
    "        res.append(new_byte)\n",
    "    return res\n",
    "        \n",
    "print(bits(rotate_right(bytes([184, 169, 25]), shift=1)) == [0, 0, 0, 0, 1, 1, 1, 0, 1, 1, 0, 0, 1, 0, 1, 0, 1, 1, 0, 0, 1, 1, 0, 0])\n",
    "print(bits(rotate_right(bytes([140, 204, 46]), shift=1)) == [0, 0, 0, 1, 1, 0, 0, 0, 1, 0, 0, 1, 1, 0, 0, 1, 1, 0, 1, 1, 1, 0, 1, 0])"
   ]
  },
  {
   "cell_type": "markdown",
   "id": "90bda72d",
   "metadata": {},
   "source": [
    "**Task 8:** Implement (replace pass) the ``xor``function that will take two integers ``a,b`` and return their bitwise xor.  "
   ]
  },
  {
   "cell_type": "code",
   "execution_count": 191,
   "id": "4cbc3afd",
   "metadata": {},
   "outputs": [],
   "source": [
    "def xor(a, b):\n",
    "    return a ^ b"
   ]
  },
  {
   "cell_type": "markdown",
   "id": "c8ea5a25",
   "metadata": {},
   "source": [
    "**Task 9:** Implement function that will take two arrays ``array1, array2`` of bytes and return their XOR (byte array that will consist of XOR-ed first bytes in ``array1, array2``, second, etc.). ``XOR`` function should use ``xor.`` "
   ]
  },
  {
   "cell_type": "code",
   "execution_count": 192,
   "id": "2ec032fd",
   "metadata": {},
   "outputs": [
    {
     "data": {
      "text/plain": [
       "'b317e2'"
      ]
     },
     "execution_count": 192,
     "metadata": {},
     "output_type": "execute_result"
    }
   ],
   "source": [
    "def XOR(array1, array2):\n",
    "    l = min(len(array1), len(array2))\n",
    "    return bytes([xor(array1[i], array2[i]) for i in range(l)])\n",
    "\n",
    "array1 = secrets.token_bytes(10)\n",
    "array2 = secrets.token_bytes(3)\n",
    "XOR(array1, array2).hex()"
   ]
  },
  {
   "cell_type": "markdown",
   "id": "678ee58c",
   "metadata": {},
   "source": [
    "**Task 10:** Use the documentation of ``hazmat`` package and try to understand what functions ``encrypt_ECB, encrypt_CTR``are doing. Some message was encrypted using ``encrypt_CTR`` and the result is stored in ``encrypted_msg``. Try to decrypt the message then encrypt it again using ``encrypt_ECB`` with the same key -- you will see a meaningful text.  "
   ]
  },
  {
   "cell_type": "code",
   "execution_count": 193,
   "id": "721d0788",
   "metadata": {},
   "outputs": [
    {
     "name": "stdout",
     "output_type": "stream",
     "text": [
      "b'We are looking forward to teach you something'\n",
      "b'm\\xd6\\xe5\\x85\\xe1\\x0b\\x86\\xed\\x8f\\xaa\\xfc\\xab\\x7fN\\xd9?'\n"
     ]
    }
   ],
   "source": [
    "import secrets\n",
    "\n",
    "def encrypt_ECB(key, msg):\n",
    "    cipher = Cipher(algorithms.AES(key), modes.ECB())\n",
    "    enc = cipher.encryptor()\n",
    "    ct = enc.update(msg) + enc.finalize()\n",
    "    return ct \n",
    "\n",
    "def encrypt_CTR(key, iv, msg):\n",
    "    cipher = Cipher(algorithms.AES(key), modes.CTR(iv))\n",
    "    enc = cipher.encryptor()\n",
    "    ct = enc.update(msg) + enc.finalize()\n",
    "    return ct \n",
    "\n",
    "key = bytes.fromhex('00'*16)\n",
    "iv = bytes.fromhex('ff'*16)\n",
    "\n",
    "encrypted_msg = b'h>\\xac\\xa8\\x98\\xe0zf\\x95\\x1c,\\xbbP\\xeaF(\\t\\x9b<\\xb5\\x9d\\xee\\x0cO\\xe7l\\x8e<\\xabWC\\x0e!\\x8d\\x89\\xee\\x89\\x11]\\x04B\\x17t9\\xc3'\n",
    "text = encrypt_CTR(key, iv, encrypted_msg)\n",
    "print(text)\n",
    "reencrypted_msg = encrypt_ECB(key, msg)\n",
    "print(reencrypted_msg)"
   ]
  },
  {
   "cell_type": "markdown",
   "id": "650eed80",
   "metadata": {},
   "source": [
    "**Task 11:** Implement ``__init__`` and ``encrypt_msg`` so that both encrypted messages ``encrypted_msg1, encrypted_msg2`` will be equal.   "
   ]
  },
  {
   "cell_type": "code",
   "execution_count": 194,
   "id": "d3410c31",
   "metadata": {},
   "outputs": [
    {
     "data": {
      "text/plain": [
       "True"
      ]
     },
     "execution_count": 194,
     "metadata": {},
     "output_type": "execute_result"
    }
   ],
   "source": [
    "class CTR:\n",
    "    def __init__(self, key):\n",
    "        self.key = key\n",
    "        \n",
    "    def encrypt_msg(self, iv, msg_block):  \n",
    "        return encrypt_CTR(self.key, iv, msg)\n",
    "    \n",
    "\n",
    "msg = secrets.token_bytes(16)\n",
    "key = secrets.token_bytes(16)\n",
    "iv = secrets.token_bytes(16)\n",
    "\n",
    "encryptor = CTR(key)\n",
    "encrypted_msg1 = encryptor.encrypt_msg(iv, msg)\n",
    "encrypted_msg2 = encrypt_CTR(key, iv, msg)\n",
    "\n",
    "encrypted_msg1 == encrypted_msg2"
   ]
  }
 ],
 "metadata": {
  "kernelspec": {
   "display_name": "Python 3 (ipykernel)",
   "language": "python",
   "name": "python3"
  },
  "language_info": {
   "codemirror_mode": {
    "name": "ipython",
    "version": 3
   },
   "file_extension": ".py",
   "mimetype": "text/x-python",
   "name": "python",
   "nbconvert_exporter": "python",
   "pygments_lexer": "ipython3",
   "version": "3.10.12"
  }
 },
 "nbformat": 4,
 "nbformat_minor": 5
}
